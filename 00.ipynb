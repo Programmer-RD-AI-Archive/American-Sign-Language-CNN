{
 "cells": [
  {
   "cell_type": "markdown",
   "id": "a64cc188-624a-43a0-aafe-95cfff0588ee",
   "metadata": {},
   "source": [
    "# Imports"
   ]
  },
  {
   "cell_type": "code",
   "execution_count": 25,
   "id": "615e99bf-4564-4b25-85fc-a9d84dc914d6",
   "metadata": {},
   "outputs": [],
   "source": [
    "import os\n",
    "import cv2\n",
    "import wandb\n",
    "import torch\n",
    "import torchvision\n",
    "import pandas as pd\n",
    "import numpy as np\n",
    "import matplotlib.pyplot as plt\n",
    "import seaborn as sns\n",
    "from torch.nn import *\n",
    "from torch.optim import *\n",
    "from torchvision.transforms import *\n",
    "from torchvision.models import *\n",
    "from sklearn.model_selection import *\n",
    "from tqdm import tqdm"
   ]
  },
  {
   "cell_type": "markdown",
   "id": "105def9a-39c7-473b-a73c-e3114fb08bbd",
   "metadata": {},
   "source": [
    "# Config"
   ]
  },
  {
   "cell_type": "code",
   "execution_count": 26,
   "id": "1814d331-68fe-4a0a-9b7c-fa97167ed431",
   "metadata": {},
   "outputs": [],
   "source": [
    "PROJECT_NAME = \"American-Sign-Language-CNN\"\n",
    "TEST_SIZE = 0.25\n",
    "device = 'cuda'\n",
    "# TODO"
   ]
  },
  {
   "cell_type": "markdown",
   "id": "3ae7c719-1976-4b67-9c48-ad2c5ae701e1",
   "metadata": {},
   "source": [
    "# Load Data"
   ]
  },
  {
   "cell_type": "code",
   "execution_count": 27,
   "id": "000c7385-6cf4-4355-917f-4ac8c7b74199",
   "metadata": {},
   "outputs": [],
   "source": [
    "def load_data():\n",
    "    data = []\n",
    "    X = []\n",
    "    y = []\n",
    "    labels = {}\n",
    "    labels_r = {}\n",
    "    idx = 0\n",
    "    for folder_dir in os.listdir('./data/'):\n",
    "        idx += 1\n",
    "        labels[folder_dir] = idx\n",
    "        labels_r[idx] = folder_dir\n",
    "    for folder_dir in tqdm(os.listdir('./data/')):\n",
    "        for file_dir in os.listdir(f'./data/{folder_dir}/'):\n",
    "            img = cv2.imread(f'./data/{folder_dir}/{file_dir}')\n",
    "            img = cv2.resize(img,(56,56))\n",
    "            img = img / 255.0\n",
    "            data.append([\n",
    "                img,\n",
    "                np.eye(labels[folder_dir],idx)[-1]\n",
    "            ])\n",
    "    np.random.shuffle(data)\n",
    "    for d_iter in data:\n",
    "        X.append(d_iter[0])\n",
    "        y.append(d_iter[1])\n",
    "    X_train,X_test,y_train,y_test = train_test_split(X,y,test_size=TEST_SIZE,shuffle=True)\n",
    "    X_train = torch.from_numpy(np.array(X_train)).view(-1,3,56,56).float().to(device)\n",
    "    X_test = torch.from_numpy(np.array(X_test)).view(-1,3,56,56).float().to(device)\n",
    "    y_train = torch.from_numpy(np.array(y_train)).float().to(device)\n",
    "    y_test = torch.from_numpy(np.array(y_test)).float().to(device)\n",
    "    return X_train,X_test,y_train,y_test,data,X,y,labels,labels_r,idx"
   ]
  },
  {
   "cell_type": "code",
   "execution_count": 28,
   "id": "26f0824d-ff28-4185-a54c-0ce3b78901a5",
   "metadata": {},
   "outputs": [
    {
     "name": "stderr",
     "output_type": "stream",
     "text": [
      "100%|███████████████████████████████████| 36/36 [00:03<00:00, 11.95it/s]\n"
     ]
    }
   ],
   "source": [
    "X_train,X_test,y_train,y_test,data,X,y,labels,labels_r,idx = load_data()"
   ]
  },
  {
   "cell_type": "code",
   "execution_count": 29,
   "id": "8aa617fc-6a61-4127-b478-d6b12edd451d",
   "metadata": {},
   "outputs": [
    {
     "data": {
      "text/plain": [
       "(1886, 629, 1886, 629)"
      ]
     },
     "execution_count": 29,
     "metadata": {},
     "output_type": "execute_result"
    }
   ],
   "source": [
    "len(X_train),len(X_test),len(y_train),len(y_test)"
   ]
  },
  {
   "cell_type": "markdown",
   "id": "a23ab0c9-814a-46ba-aa66-312ccfe015fc",
   "metadata": {},
   "source": [
    "# Metrics"
   ]
  },
  {
   "cell_type": "code",
   "execution_count": 30,
   "id": "452ee0b0-9889-42e9-ac46-066264c7fc85",
   "metadata": {},
   "outputs": [],
   "source": [
    "def get_loss(model,X,y,criterion):\n",
    "    preds = model(X)\n",
    "    loss = criterion(preds,y)\n",
    "    return loss.item()"
   ]
  },
  {
   "cell_type": "code",
   "execution_count": 31,
   "id": "2a8e887d-479f-4961-a98e-4de33753f463",
   "metadata": {},
   "outputs": [],
   "source": [
    "def get_accuracy(model,X,y):\n",
    "    preds = model(X)\n",
    "    correct = 0\n",
    "    total = 0\n",
    "    for pred,y_iter in zip(preds,y):\n",
    "        pred = torch.argmax(pred)\n",
    "        y_iter = torch.argmax(y_iter)\n",
    "        if pred == y_iter:\n",
    "            correct += 1\n",
    "        total += 1\n",
    "    return round(correct/total,3)"
   ]
  },
  {
   "cell_type": "markdown",
   "id": "e848f19a-ce1e-4b23-837e-31f748194dec",
   "metadata": {},
   "source": [
    "# Modelling"
   ]
  },
  {
   "cell_type": "code",
   "execution_count": 32,
   "id": "a53b700d-1b0a-40e0-b270-a11e62d38430",
   "metadata": {},
   "outputs": [],
   "source": [
    "model = resnet18().to(device)\n",
    "model.fc = Linear(512,idx)\n",
    "model = model.to(device)\n",
    "criterion = MSELoss()\n",
    "optimizer = Adam(model.parameters(),lr=0.001)\n",
    "batch_size = 32\n",
    "epochs = 100"
   ]
  },
  {
   "cell_type": "code",
   "execution_count": 33,
   "id": "21abd597-c81d-4139-ad82-371af9a63b05",
   "metadata": {},
   "outputs": [
    {
     "data": {
      "text/html": [
       "Finishing last run (ID:kisqnyak) before initializing another..."
      ],
      "text/plain": [
       "<IPython.core.display.HTML object>"
      ]
     },
     "metadata": {},
     "output_type": "display_data"
    },
    {
     "data": {
      "text/html": [
       "Waiting for W&B process to finish... <strong style=\"color:green\">(success).</strong>"
      ],
      "text/plain": [
       "<IPython.core.display.HTML object>"
      ]
     },
     "metadata": {},
     "output_type": "display_data"
    },
    {
     "data": {
      "application/vnd.jupyter.widget-view+json": {
       "model_id": "",
       "version_major": 2,
       "version_minor": 0
      },
      "text/plain": [
       "VBox(children=(Label(value='0.047 MB of 0.047 MB uploaded (0.019 MB deduped)\\r'), FloatProgress(value=1.0, max…"
      ]
     },
     "metadata": {},
     "output_type": "display_data"
    },
    {
     "data": {
      "text/html": [
       "W&B sync reduced upload amount by 21.5%             "
      ],
      "text/plain": [
       "<IPython.core.display.HTML object>"
      ]
     },
     "metadata": {},
     "output_type": "display_data"
    },
    {
     "data": {
      "text/html": [
       "Synced <strong style=\"color:#cdcd00\">BaseLine resnet18</strong>: <a href=\"https://wandb.ai/ranuga-d/American-Sign-Language-CNN/runs/kisqnyak\" target=\"_blank\">https://wandb.ai/ranuga-d/American-Sign-Language-CNN/runs/kisqnyak</a><br/>Synced 6 W&B file(s), 0 media file(s), 3 artifact file(s) and 1 other file(s)"
      ],
      "text/plain": [
       "<IPython.core.display.HTML object>"
      ]
     },
     "metadata": {},
     "output_type": "display_data"
    },
    {
     "data": {
      "text/html": [
       "Find logs at: <code>./wandb/run-20220429_222904-kisqnyak/logs</code>"
      ],
      "text/plain": [
       "<IPython.core.display.HTML object>"
      ]
     },
     "metadata": {},
     "output_type": "display_data"
    },
    {
     "data": {
      "text/html": [
       "Successfully finished last run (ID:kisqnyak). Initializing new run:<br/>"
      ],
      "text/plain": [
       "<IPython.core.display.HTML object>"
      ]
     },
     "metadata": {},
     "output_type": "display_data"
    },
    {
     "data": {
      "text/html": [
       "Tracking run with wandb version 0.12.15"
      ],
      "text/plain": [
       "<IPython.core.display.HTML object>"
      ]
     },
     "metadata": {},
     "output_type": "display_data"
    },
    {
     "data": {
      "text/html": [
       "Run data is saved locally in <code>/media/indika/Sync/Programmer-RD-AI/Programming/Projects/Python/Artifical-Intelligence/PyTorch/CNN/American-Sign-Language-CNN/wandb/run-20220429_222947-yolukh9l</code>"
      ],
      "text/plain": [
       "<IPython.core.display.HTML object>"
      ]
     },
     "metadata": {},
     "output_type": "display_data"
    },
    {
     "data": {
      "text/html": [
       "Syncing run <strong><a href=\"https://wandb.ai/ranuga-d/American-Sign-Language-CNN/runs/yolukh9l\" target=\"_blank\">BaseLine resnet18</a></strong> to <a href=\"https://wandb.ai/ranuga-d/American-Sign-Language-CNN\" target=\"_blank\">Weights & Biases</a> (<a href=\"https://wandb.me/run\" target=\"_blank\">docs</a>)<br/>"
      ],
      "text/plain": [
       "<IPython.core.display.HTML object>"
      ]
     },
     "metadata": {},
     "output_type": "display_data"
    },
    {
     "name": "stderr",
     "output_type": "stream",
     "text": [
      "100%|█████████████████████████████████| 100/100 [02:05<00:00,  1.25s/it]\n"
     ]
    },
    {
     "data": {
      "text/html": [
       "Waiting for W&B process to finish... <strong style=\"color:green\">(success).</strong>"
      ],
      "text/plain": [
       "<IPython.core.display.HTML object>"
      ]
     },
     "metadata": {},
     "output_type": "display_data"
    },
    {
     "data": {
      "application/vnd.jupyter.widget-view+json": {
       "model_id": "",
       "version_major": 2,
       "version_minor": 0
      },
      "text/plain": [
       "VBox(children=(Label(value='0.001 MB of 0.001 MB uploaded (0.000 MB deduped)\\r'), FloatProgress(value=1.0, max…"
      ]
     },
     "metadata": {},
     "output_type": "display_data"
    },
    {
     "data": {
      "text/html": [
       "<style>\n",
       "    table.wandb td:nth-child(1) { padding: 0 10px; text-align: right }\n",
       "    .wandb-row { display: flex; flex-direction: row; flex-wrap: wrap; width: 100% }\n",
       "    .wandb-col { display: flex; flex-direction: column; flex-basis: 100%; flex: 1; padding: 10px; }\n",
       "    </style>\n",
       "<div class=\"wandb-row\"><div class=\"wandb-col\"><h3>Run history:</h3><br/><table class=\"wandb\"><tr><td>Accuracy Test</td><td>▁▆▇▇▇▇▇▇███▇▇▇▇█▇██▇▇████████▇█▇▆▇██████</td></tr><tr><td>Accuracy Train</td><td>▁████████████▇██████▇███████████▇███████</td></tr><tr><td>Loss Test</td><td>█▅▅▄▄▅▄▃▃▃▃▃▅▃▂▂▂▁▂▃▂▁▁▁▁▁▁▁▁▁▁▁▃▁▁▁▁▁▁▁</td></tr><tr><td>Loss Train</td><td>█▅▅▃▃▄▃▃▂▃▂▃▆▃▂▂▂▁▂▃▂▁▁▁▁▁▁▁▁▁▁▁▂▁▁▁▁▁▁▁</td></tr></table><br/></div><div class=\"wandb-col\"><h3>Run summary:</h3><br/><table class=\"wandb\"><tr><td>Accuracy Test</td><td>0.987</td></tr><tr><td>Accuracy Train</td><td>1.0</td></tr><tr><td>Loss Test</td><td>0.00113</td></tr><tr><td>Loss Train</td><td>0.0001</td></tr></table><br/></div></div>"
      ],
      "text/plain": [
       "<IPython.core.display.HTML object>"
      ]
     },
     "metadata": {},
     "output_type": "display_data"
    },
    {
     "data": {
      "text/html": [
       "Synced <strong style=\"color:#cdcd00\">BaseLine resnet18</strong>: <a href=\"https://wandb.ai/ranuga-d/American-Sign-Language-CNN/runs/yolukh9l\" target=\"_blank\">https://wandb.ai/ranuga-d/American-Sign-Language-CNN/runs/yolukh9l</a><br/>Synced 6 W&B file(s), 0 media file(s), 0 artifact file(s) and 0 other file(s)"
      ],
      "text/plain": [
       "<IPython.core.display.HTML object>"
      ]
     },
     "metadata": {},
     "output_type": "display_data"
    },
    {
     "data": {
      "text/html": [
       "Find logs at: <code>./wandb/run-20220429_222947-yolukh9l/logs</code>"
      ],
      "text/plain": [
       "<IPython.core.display.HTML object>"
      ]
     },
     "metadata": {},
     "output_type": "display_data"
    }
   ],
   "source": [
    "wandb.init(project=PROJECT_NAME,name='BaseLine resnet18')\n",
    "wandb.watch(model)\n",
    "for _ in tqdm(range(epochs)):\n",
    "    for idx in range(0,len(X_train),batch_size):\n",
    "        X_batch = X_train[idx:idx+batch_size].float().view(-1,3,56,56).to(device)\n",
    "        y_batch = y_train[idx:idx+batch_size].float().to(device)\n",
    "        preds = model(X_batch)\n",
    "        loss = criterion(preds,y_batch)\n",
    "        optimizer.zero_grad()\n",
    "        loss.backward()\n",
    "        optimizer.step()\n",
    "    model.eval()\n",
    "    wandb.log({\n",
    "        'Accuracy Train':get_accuracy(model,X_train,y_train),\n",
    "        'Loss Train':get_loss(model,X_train,y_train,criterion),\n",
    "        'Accuracy Test':get_accuracy(model,X_test,y_test),\n",
    "        'Loss Test':get_loss(model,X_test,y_test,criterion),\n",
    "    })\n",
    "    model.train()\n",
    "wandb.watch(model)\n",
    "wandb.finish()"
   ]
  },
  {
   "cell_type": "code",
   "execution_count": 35,
   "id": "68e95caa-8c05-4769-b336-cb2cf8d0803e",
   "metadata": {},
   "outputs": [],
   "source": [
    "torch.save(model,'./save/model.pt')\n",
    "torch.save(model,'./save/model.pth')\n",
    "torch.save(criterion,'./save/criterion.pt',)\n",
    "torch.save(criterion,'./save/criterion.pth')\n",
    "torch.save(optimizer,'./save/optimizer.pt')\n",
    "torch.save(optimizer,'./save/optimizer.pth')"
   ]
  },
  {
   "cell_type": "code",
   "execution_count": null,
   "id": "fcf6503b-d2fe-437a-bc09-5c7d24a96169",
   "metadata": {},
   "outputs": [],
   "source": []
  }
 ],
 "metadata": {
  "kernelspec": {
   "display_name": "Python 3 (ipykernel)",
   "language": "python",
   "name": "python3"
  },
  "language_info": {
   "codemirror_mode": {
    "name": "ipython",
    "version": 3
   },
   "file_extension": ".py",
   "mimetype": "text/x-python",
   "name": "python",
   "nbconvert_exporter": "python",
   "pygments_lexer": "ipython3",
   "version": "3.8.8"
  }
 },
 "nbformat": 4,
 "nbformat_minor": 5
}
